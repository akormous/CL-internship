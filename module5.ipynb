{
 "cells": [
  {
   "cell_type": "code",
   "execution_count": 62,
   "metadata": {},
   "outputs": [
    {
     "data": {
      "text/html": [
       "<div>\n",
       "<style scoped>\n",
       "    .dataframe tbody tr th:only-of-type {\n",
       "        vertical-align: middle;\n",
       "    }\n",
       "\n",
       "    .dataframe tbody tr th {\n",
       "        vertical-align: top;\n",
       "    }\n",
       "\n",
       "    .dataframe thead th {\n",
       "        text-align: right;\n",
       "    }\n",
       "</style>\n",
       "<table border=\"1\" class=\"dataframe\">\n",
       "  <thead>\n",
       "    <tr style=\"text-align: right;\">\n",
       "      <th></th>\n",
       "      <th>Symbol</th>\n",
       "      <th>Series</th>\n",
       "      <th>Date</th>\n",
       "      <th>Prev Close</th>\n",
       "      <th>Open Price</th>\n",
       "      <th>High Price</th>\n",
       "      <th>Low Price</th>\n",
       "      <th>Last Price</th>\n",
       "      <th>Close Price</th>\n",
       "      <th>Average Price</th>\n",
       "      <th>Total Traded Quantity</th>\n",
       "      <th>Turnover</th>\n",
       "      <th>No. of Trades</th>\n",
       "      <th>Deliverable Qty</th>\n",
       "      <th>% Dly Qt to Traded Qty</th>\n",
       "    </tr>\n",
       "  </thead>\n",
       "  <tbody>\n",
       "    <tr>\n",
       "      <td>0</td>\n",
       "      <td>HEROMOTOCO</td>\n",
       "      <td>EQ</td>\n",
       "      <td>15-May-2017</td>\n",
       "      <td>3541.50</td>\n",
       "      <td>3541.0</td>\n",
       "      <td>3558.00</td>\n",
       "      <td>3504.60</td>\n",
       "      <td>3518.0</td>\n",
       "      <td>3515.45</td>\n",
       "      <td>3519.65</td>\n",
       "      <td>215587</td>\n",
       "      <td>7.587906e+08</td>\n",
       "      <td>17129</td>\n",
       "      <td>110769</td>\n",
       "      <td>51.38</td>\n",
       "    </tr>\n",
       "    <tr>\n",
       "      <td>1</td>\n",
       "      <td>HEROMOTOCO</td>\n",
       "      <td>EQ</td>\n",
       "      <td>16-May-2017</td>\n",
       "      <td>3515.45</td>\n",
       "      <td>3529.5</td>\n",
       "      <td>3631.80</td>\n",
       "      <td>3491.10</td>\n",
       "      <td>3623.0</td>\n",
       "      <td>3619.40</td>\n",
       "      <td>3561.42</td>\n",
       "      <td>372398</td>\n",
       "      <td>1.326266e+09</td>\n",
       "      <td>33654</td>\n",
       "      <td>147610</td>\n",
       "      <td>39.64</td>\n",
       "    </tr>\n",
       "    <tr>\n",
       "      <td>2</td>\n",
       "      <td>HEROMOTOCO</td>\n",
       "      <td>EQ</td>\n",
       "      <td>17-May-2017</td>\n",
       "      <td>3619.40</td>\n",
       "      <td>3615.0</td>\n",
       "      <td>3683.95</td>\n",
       "      <td>3595.05</td>\n",
       "      <td>3634.1</td>\n",
       "      <td>3645.95</td>\n",
       "      <td>3651.06</td>\n",
       "      <td>338342</td>\n",
       "      <td>1.235308e+09</td>\n",
       "      <td>27003</td>\n",
       "      <td>160855</td>\n",
       "      <td>47.54</td>\n",
       "    </tr>\n",
       "    <tr>\n",
       "      <td>3</td>\n",
       "      <td>HEROMOTOCO</td>\n",
       "      <td>EQ</td>\n",
       "      <td>18-May-2017</td>\n",
       "      <td>3645.95</td>\n",
       "      <td>3600.0</td>\n",
       "      <td>3639.00</td>\n",
       "      <td>3577.05</td>\n",
       "      <td>3586.0</td>\n",
       "      <td>3592.05</td>\n",
       "      <td>3602.46</td>\n",
       "      <td>294013</td>\n",
       "      <td>1.059170e+09</td>\n",
       "      <td>23822</td>\n",
       "      <td>143430</td>\n",
       "      <td>48.78</td>\n",
       "    </tr>\n",
       "    <tr>\n",
       "      <td>4</td>\n",
       "      <td>HEROMOTOCO</td>\n",
       "      <td>EQ</td>\n",
       "      <td>19-May-2017</td>\n",
       "      <td>3592.05</td>\n",
       "      <td>3597.0</td>\n",
       "      <td>3656.00</td>\n",
       "      <td>3533.75</td>\n",
       "      <td>3565.0</td>\n",
       "      <td>3571.65</td>\n",
       "      <td>3593.06</td>\n",
       "      <td>270446</td>\n",
       "      <td>9.717284e+08</td>\n",
       "      <td>26291</td>\n",
       "      <td>113208</td>\n",
       "      <td>41.86</td>\n",
       "    </tr>\n",
       "  </tbody>\n",
       "</table>\n",
       "</div>"
      ],
      "text/plain": [
       "       Symbol Series         Date  Prev Close  Open Price  High Price  \\\n",
       "0  HEROMOTOCO     EQ  15-May-2017     3541.50      3541.0     3558.00   \n",
       "1  HEROMOTOCO     EQ  16-May-2017     3515.45      3529.5     3631.80   \n",
       "2  HEROMOTOCO     EQ  17-May-2017     3619.40      3615.0     3683.95   \n",
       "3  HEROMOTOCO     EQ  18-May-2017     3645.95      3600.0     3639.00   \n",
       "4  HEROMOTOCO     EQ  19-May-2017     3592.05      3597.0     3656.00   \n",
       "\n",
       "   Low Price  Last Price  Close Price  Average Price  Total Traded Quantity  \\\n",
       "0    3504.60      3518.0      3515.45        3519.65                 215587   \n",
       "1    3491.10      3623.0      3619.40        3561.42                 372398   \n",
       "2    3595.05      3634.1      3645.95        3651.06                 338342   \n",
       "3    3577.05      3586.0      3592.05        3602.46                 294013   \n",
       "4    3533.75      3565.0      3571.65        3593.06                 270446   \n",
       "\n",
       "       Turnover  No. of Trades  Deliverable Qty  % Dly Qt to Traded Qty  \n",
       "0  7.587906e+08          17129           110769                   51.38  \n",
       "1  1.326266e+09          33654           147610                   39.64  \n",
       "2  1.235308e+09          27003           160855                   47.54  \n",
       "3  1.059170e+09          23822           143430                   48.78  \n",
       "4  9.717284e+08          26291           113208                   41.86  "
      ]
     },
     "execution_count": 62,
     "metadata": {},
     "output_type": "execute_result"
    }
   ],
   "source": [
    "import numpy as np\n",
    "import pandas as pd\n",
    "\n",
    "# Importing stock of Hero Moto Corp\n",
    "df = pd.read_csv('Large_Cap/HEROMOTOCO.csv')\n",
    "df.head()"
   ]
  },
  {
   "cell_type": "code",
   "execution_count": 63,
   "metadata": {},
   "outputs": [],
   "source": [
    "# Converting the Date to datetime object\n",
    "df['Date'] = pd.to_datetime(df['Date'])"
   ]
  },
  {
   "cell_type": "code",
   "execution_count": 64,
   "metadata": {},
   "outputs": [
    {
     "name": "stdout",
     "output_type": "stream",
     "text": [
      "159   2018-01-01\n",
      "Name: Date, dtype: datetime64[ns]\n",
      "404   2018-12-31\n",
      "Name: Date, dtype: datetime64[ns]\n"
     ]
    }
   ],
   "source": [
    "# Slicing 2018 data to calculate annual mean and annual standard deviation\n",
    "filt = (df['Date'] >= '01-Jan-2018') & (df['Date'] <= '31-Dec-2018')\n",
    "df = df[filt]\n",
    "print(df.head(1)['Date'])\n",
    "print(df.tail(1)['Date'])"
   ]
  },
  {
   "cell_type": "code",
   "execution_count": 65,
   "metadata": {},
   "outputs": [
    {
     "data": {
      "text/html": [
       "<div>\n",
       "<style scoped>\n",
       "    .dataframe tbody tr th:only-of-type {\n",
       "        vertical-align: middle;\n",
       "    }\n",
       "\n",
       "    .dataframe tbody tr th {\n",
       "        vertical-align: top;\n",
       "    }\n",
       "\n",
       "    .dataframe thead th {\n",
       "        text-align: right;\n",
       "    }\n",
       "</style>\n",
       "<table border=\"1\" class=\"dataframe\">\n",
       "  <thead>\n",
       "    <tr style=\"text-align: right;\">\n",
       "      <th></th>\n",
       "      <th>Symbol</th>\n",
       "      <th>Series</th>\n",
       "      <th>Date</th>\n",
       "      <th>Prev Close</th>\n",
       "      <th>Open Price</th>\n",
       "      <th>High Price</th>\n",
       "      <th>Low Price</th>\n",
       "      <th>Last Price</th>\n",
       "      <th>Close Price</th>\n",
       "      <th>Average Price</th>\n",
       "      <th>Total Traded Quantity</th>\n",
       "      <th>Turnover</th>\n",
       "      <th>No. of Trades</th>\n",
       "      <th>Deliverable Qty</th>\n",
       "      <th>% Dly Qt to Traded Qty</th>\n",
       "      <th>Daily_Return</th>\n",
       "    </tr>\n",
       "  </thead>\n",
       "  <tbody>\n",
       "    <tr>\n",
       "      <td>159</td>\n",
       "      <td>HEROMOTOCO</td>\n",
       "      <td>EQ</td>\n",
       "      <td>2018-01-01</td>\n",
       "      <td>3785.15</td>\n",
       "      <td>3810.0</td>\n",
       "      <td>3810.00</td>\n",
       "      <td>3740.00</td>\n",
       "      <td>3756.00</td>\n",
       "      <td>3749.10</td>\n",
       "      <td>3757.30</td>\n",
       "      <td>201102</td>\n",
       "      <td>7.555999e+08</td>\n",
       "      <td>8712</td>\n",
       "      <td>105027</td>\n",
       "      <td>52.23</td>\n",
       "      <td>NaN</td>\n",
       "    </tr>\n",
       "    <tr>\n",
       "      <td>160</td>\n",
       "      <td>HEROMOTOCO</td>\n",
       "      <td>EQ</td>\n",
       "      <td>2018-01-02</td>\n",
       "      <td>3749.10</td>\n",
       "      <td>3781.0</td>\n",
       "      <td>3784.35</td>\n",
       "      <td>3719.25</td>\n",
       "      <td>3740.05</td>\n",
       "      <td>3743.85</td>\n",
       "      <td>3750.07</td>\n",
       "      <td>258156</td>\n",
       "      <td>9.681034e+08</td>\n",
       "      <td>18744</td>\n",
       "      <td>98531</td>\n",
       "      <td>38.17</td>\n",
       "      <td>-0.001400</td>\n",
       "    </tr>\n",
       "    <tr>\n",
       "      <td>161</td>\n",
       "      <td>HEROMOTOCO</td>\n",
       "      <td>EQ</td>\n",
       "      <td>2018-01-03</td>\n",
       "      <td>3743.85</td>\n",
       "      <td>3728.0</td>\n",
       "      <td>3764.40</td>\n",
       "      <td>3728.00</td>\n",
       "      <td>3755.20</td>\n",
       "      <td>3755.20</td>\n",
       "      <td>3751.69</td>\n",
       "      <td>274963</td>\n",
       "      <td>1.031576e+09</td>\n",
       "      <td>24358</td>\n",
       "      <td>165309</td>\n",
       "      <td>60.12</td>\n",
       "      <td>0.003032</td>\n",
       "    </tr>\n",
       "    <tr>\n",
       "      <td>162</td>\n",
       "      <td>HEROMOTOCO</td>\n",
       "      <td>EQ</td>\n",
       "      <td>2018-01-04</td>\n",
       "      <td>3755.20</td>\n",
       "      <td>3755.0</td>\n",
       "      <td>3759.95</td>\n",
       "      <td>3721.55</td>\n",
       "      <td>3747.80</td>\n",
       "      <td>3738.90</td>\n",
       "      <td>3730.95</td>\n",
       "      <td>196775</td>\n",
       "      <td>7.341580e+08</td>\n",
       "      <td>35468</td>\n",
       "      <td>134969</td>\n",
       "      <td>68.59</td>\n",
       "      <td>-0.004341</td>\n",
       "    </tr>\n",
       "    <tr>\n",
       "      <td>163</td>\n",
       "      <td>HEROMOTOCO</td>\n",
       "      <td>EQ</td>\n",
       "      <td>2018-01-05</td>\n",
       "      <td>3738.90</td>\n",
       "      <td>3758.7</td>\n",
       "      <td>3758.70</td>\n",
       "      <td>3726.20</td>\n",
       "      <td>3752.00</td>\n",
       "      <td>3744.65</td>\n",
       "      <td>3740.20</td>\n",
       "      <td>234199</td>\n",
       "      <td>8.759518e+08</td>\n",
       "      <td>22721</td>\n",
       "      <td>154494</td>\n",
       "      <td>65.97</td>\n",
       "      <td>0.001538</td>\n",
       "    </tr>\n",
       "  </tbody>\n",
       "</table>\n",
       "</div>"
      ],
      "text/plain": [
       "         Symbol Series       Date  Prev Close  Open Price  High Price  \\\n",
       "159  HEROMOTOCO     EQ 2018-01-01     3785.15      3810.0     3810.00   \n",
       "160  HEROMOTOCO     EQ 2018-01-02     3749.10      3781.0     3784.35   \n",
       "161  HEROMOTOCO     EQ 2018-01-03     3743.85      3728.0     3764.40   \n",
       "162  HEROMOTOCO     EQ 2018-01-04     3755.20      3755.0     3759.95   \n",
       "163  HEROMOTOCO     EQ 2018-01-05     3738.90      3758.7     3758.70   \n",
       "\n",
       "     Low Price  Last Price  Close Price  Average Price  Total Traded Quantity  \\\n",
       "159    3740.00     3756.00      3749.10        3757.30                 201102   \n",
       "160    3719.25     3740.05      3743.85        3750.07                 258156   \n",
       "161    3728.00     3755.20      3755.20        3751.69                 274963   \n",
       "162    3721.55     3747.80      3738.90        3730.95                 196775   \n",
       "163    3726.20     3752.00      3744.65        3740.20                 234199   \n",
       "\n",
       "         Turnover  No. of Trades  Deliverable Qty  % Dly Qt to Traded Qty  \\\n",
       "159  7.555999e+08           8712           105027                   52.23   \n",
       "160  9.681034e+08          18744            98531                   38.17   \n",
       "161  1.031576e+09          24358           165309                   60.12   \n",
       "162  7.341580e+08          35468           134969                   68.59   \n",
       "163  8.759518e+08          22721           154494                   65.97   \n",
       "\n",
       "     Daily_Return  \n",
       "159           NaN  \n",
       "160     -0.001400  \n",
       "161      0.003032  \n",
       "162     -0.004341  \n",
       "163      0.001538  "
      ]
     },
     "execution_count": 65,
     "metadata": {},
     "output_type": "execute_result"
    }
   ],
   "source": [
    "# 5.1\n",
    "# Calculating the daily return of the stock\n",
    "df['Daily_Return'] = df['Close Price'].pct_change()\n",
    "df.head()"
   ]
  },
  {
   "cell_type": "code",
   "execution_count": 66,
   "metadata": {},
   "outputs": [],
   "source": [
    "# Changing the nan value to 0\n",
    "df.at[0,'Daily_Return'] = 0\n",
    "\n",
    "# Calculating the daily standard deviation of the stock\n",
    "sd = df['Daily_Return'].std()\n",
    "\n",
    "# Calculating the annual mean of Hero Moto Corp stock\n",
    "Annual_Mean = df['Daily_Return'].mean() * np.sqrt(252)\n",
    "\n",
    "# Calculating the annual standard deviation of Hero Moto Corp stock\n",
    "annual_sd = sd*np.sqrt(252)"
   ]
  },
  {
   "cell_type": "code",
   "execution_count": 67,
   "metadata": {},
   "outputs": [
    {
     "name": "stdout",
     "output_type": "stream",
     "text": [
      "Daily Standard Deviation  :  0.0159819558451979\n",
      "\n",
      "Annual Mean               :  -0.010158289095911358\n",
      "Annual Standard Deviation :  0.2537056837848525\n"
     ]
    }
   ],
   "source": [
    "print('Daily Standard Deviation  : ',sd)\n",
    "print('\\nAnnual Mean               : ',Annual_Mean)\n",
    "print('Annual Standard Deviation : ',annual_sd)"
   ]
  },
  {
   "cell_type": "code",
   "execution_count": 68,
   "metadata": {},
   "outputs": [],
   "source": [
    "# 5.2\n",
    "# Importing five stocks\n",
    "df1 = pd.read_csv('Small_Cap/SONATSOFTW.csv')\n",
    "df2 = pd.read_csv('Mid_Cap/APOLLOTYRE.csv')\n",
    "df3 = pd.read_csv('Large_Cap/MARUTI.csv')\n",
    "df4 = pd.read_csv('Mid_Cap/VOLTAS.csv')\n",
    "df5 = pd.read_csv('Large_Cap/RELIANCE.csv')"
   ]
  },
  {
   "cell_type": "code",
   "execution_count": 69,
   "metadata": {},
   "outputs": [],
   "source": [
    "# Converting the Date to datetime object\n",
    "df1['Date'] = pd.to_datetime(df1['Date'])\n",
    "df2['Date'] = pd.to_datetime(df2['Date'])\n",
    "df3['Date'] = pd.to_datetime(df3['Date'])\n",
    "df4['Date'] = pd.to_datetime(df4['Date'])\n",
    "df5['Date'] = pd.to_datetime(df5['Date'])"
   ]
  },
  {
   "cell_type": "code",
   "execution_count": 70,
   "metadata": {},
   "outputs": [],
   "source": [
    "# Slicing 2018 data to calculate annual mean and annual standard deviation\n",
    "filt = (df1['Date'] >= '01-Jan-2018') & (df1['Date'] <= '31-Dec-2018')\n",
    "df1 = df1[filt]\n",
    "\n",
    "filt = (df2['Date'] >= '01-Jan-2018') & (df2['Date'] <= '31-Dec-2018')\n",
    "df2 = df2[filt]\n",
    "\n",
    "filt = (df3['Date'] >= '01-Jan-2018') & (df3['Date'] <= '31-Dec-2018')\n",
    "df3 = df3[filt]\n",
    "\n",
    "filt = (df4['Date'] >= '01-Jan-2018') & (df4['Date'] <= '31-Dec-2018')\n",
    "df4 = df4[filt]\n",
    "\n",
    "filt = (df5['Date'] >= '01-Jan-2018') & (df5['Date'] <= '31-Dec-2018')\n",
    "df5 = df5[filt]\n"
   ]
  },
  {
   "cell_type": "code",
   "execution_count": 71,
   "metadata": {},
   "outputs": [
    {
     "data": {
      "text/html": [
       "<div>\n",
       "<style scoped>\n",
       "    .dataframe tbody tr th:only-of-type {\n",
       "        vertical-align: middle;\n",
       "    }\n",
       "\n",
       "    .dataframe tbody tr th {\n",
       "        vertical-align: top;\n",
       "    }\n",
       "\n",
       "    .dataframe thead th {\n",
       "        text-align: right;\n",
       "    }\n",
       "</style>\n",
       "<table border=\"1\" class=\"dataframe\">\n",
       "  <thead>\n",
       "    <tr style=\"text-align: right;\">\n",
       "      <th></th>\n",
       "      <th>SONATA</th>\n",
       "      <th>APOLLOTYRE</th>\n",
       "      <th>MARUTI</th>\n",
       "      <th>VOLTAS</th>\n",
       "      <th>RELIANCE</th>\n",
       "    </tr>\n",
       "  </thead>\n",
       "  <tbody>\n",
       "    <tr>\n",
       "      <td>401</td>\n",
       "      <td>298.15</td>\n",
       "      <td>233.35</td>\n",
       "      <td>7529.15</td>\n",
       "      <td>549.60</td>\n",
       "      <td>1098.35</td>\n",
       "    </tr>\n",
       "    <tr>\n",
       "      <td>402</td>\n",
       "      <td>301.10</td>\n",
       "      <td>231.05</td>\n",
       "      <td>7569.10</td>\n",
       "      <td>551.15</td>\n",
       "      <td>1120.20</td>\n",
       "    </tr>\n",
       "    <tr>\n",
       "      <td>403</td>\n",
       "      <td>300.10</td>\n",
       "      <td>234.50</td>\n",
       "      <td>7499.95</td>\n",
       "      <td>551.30</td>\n",
       "      <td>1125.55</td>\n",
       "    </tr>\n",
       "    <tr>\n",
       "      <td>404</td>\n",
       "      <td>302.65</td>\n",
       "      <td>235.95</td>\n",
       "      <td>7505.55</td>\n",
       "      <td>553.50</td>\n",
       "      <td>1121.25</td>\n",
       "    </tr>\n",
       "    <tr>\n",
       "      <td>405</td>\n",
       "      <td>NaN</td>\n",
       "      <td>NaN</td>\n",
       "      <td>7465.50</td>\n",
       "      <td>NaN</td>\n",
       "      <td>NaN</td>\n",
       "    </tr>\n",
       "  </tbody>\n",
       "</table>\n",
       "</div>"
      ],
      "text/plain": [
       "     SONATA  APOLLOTYRE   MARUTI  VOLTAS  RELIANCE\n",
       "401  298.15      233.35  7529.15  549.60   1098.35\n",
       "402  301.10      231.05  7569.10  551.15   1120.20\n",
       "403  300.10      234.50  7499.95  551.30   1125.55\n",
       "404  302.65      235.95  7505.55  553.50   1121.25\n",
       "405     NaN         NaN  7465.50     NaN       NaN"
      ]
     },
     "execution_count": 71,
     "metadata": {},
     "output_type": "execute_result"
    }
   ],
   "source": [
    "final_df = pd.DataFrame({'SONATA':df1['Close Price'],\n",
    "                         'APOLLOTYRE':df2['Close Price'],\n",
    "                         'MARUTI':df3['Close Price'],\n",
    "                         'VOLTAS':df4['Close Price'],\n",
    "                         'RELIANCE':df5['Close Price'],\n",
    "                        })\n",
    "final_df.tail()"
   ]
  },
  {
   "cell_type": "code",
   "execution_count": 72,
   "metadata": {},
   "outputs": [
    {
     "name": "stdout",
     "output_type": "stream",
     "text": [
      "Annual Mean Return of following stocks :\n",
      "\n",
      "SONATA        0.012251\n",
      "APOLLOTYRE   -0.005137\n",
      "MARUTI       -0.014691\n",
      "VOLTAS       -0.007078\n",
      "RELIANCE      0.015736\n",
      "dtype: float64\n"
     ]
    }
   ],
   "source": [
    "# Calculating the annual mean of every stock\n",
    "an_means = final_df.pct_change().mean() * np.sqrt(252)\n",
    "\n",
    "print('Annual Mean Return of following stocks :\\n')\n",
    "print(an_means)"
   ]
  },
  {
   "cell_type": "code",
   "execution_count": 73,
   "metadata": {},
   "outputs": [
    {
     "name": "stdout",
     "output_type": "stream",
     "text": [
      "Portfolio Annual Return :  0.00021609768796949144\n"
     ]
    }
   ],
   "source": [
    "# Calculating the Annual Return of portfolio\n",
    "\n",
    "portfolio_return = 0\n",
    "\n",
    "for i in an_means:\n",
    "    portfolio_return = portfolio_return + i*0.20\n",
    "    \n",
    "print('Portfolio Annual Return : ',portfolio_return)"
   ]
  },
  {
   "cell_type": "code",
   "execution_count": 74,
   "metadata": {},
   "outputs": [
    {
     "name": "stdout",
     "output_type": "stream",
     "text": [
      "Annual Standard Deviations of following stocks :\n",
      "\n",
      "SONATA        0.471236\n",
      "APOLLOTYRE    0.323878\n",
      "MARUTI        0.244819\n",
      "VOLTAS        0.318525\n",
      "RELIANCE      0.266720\n",
      "dtype: float64\n"
     ]
    }
   ],
   "source": [
    "# Calculating annual standard deviations of every stock\n",
    "an_stds = final_df.pct_change().std() * np.sqrt(252)\n",
    "\n",
    "print('Annual Standard Deviations of following stocks :\\n')\n",
    "print(an_stds)"
   ]
  },
  {
   "cell_type": "code",
   "execution_count": 75,
   "metadata": {},
   "outputs": [
    {
     "name": "stdout",
     "output_type": "stream",
     "text": [
      "Portfolio Variance :  0.00016270104520653859\n"
     ]
    }
   ],
   "source": [
    "# Calculating the portfolio volatility\n",
    "\n",
    "# Creating a covariance matrix\n",
    "cov_matrix = final_df.pct_change().cov()\n",
    "\n",
    "# Assigning weights to each stock\n",
    "w = {'SONATA':.20,'APOLLOTYRE':.20,'MARUTI':.20,'VOLTAS':.20,'RELIANCE':.20}\n",
    "\n",
    "# Portfolio Variance\n",
    "p_var = cov_matrix.mul(w, axis = 0).mul(w, axis = 1).sum().sum()\n",
    "print('Portfolio Variance : ',p_var)"
   ]
  },
  {
   "cell_type": "code",
   "execution_count": 76,
   "metadata": {},
   "outputs": [
    {
     "name": "stdout",
     "output_type": "stream",
     "text": [
      "Annual Portfolio Volatility :  0.20248620543643886\n"
     ]
    }
   ],
   "source": [
    "# Annual Portfolio Volaitlity\n",
    "p_annual_sd = np.sqrt(p_var) * np.sqrt(252)\n",
    "print('Annual Portfolio Volatility : ',p_annual_sd)"
   ]
  },
  {
   "cell_type": "code",
   "execution_count": 77,
   "metadata": {},
   "outputs": [
    {
     "data": {
      "text/html": [
       "<div>\n",
       "<style scoped>\n",
       "    .dataframe tbody tr th:only-of-type {\n",
       "        vertical-align: middle;\n",
       "    }\n",
       "\n",
       "    .dataframe tbody tr th {\n",
       "        vertical-align: top;\n",
       "    }\n",
       "\n",
       "    .dataframe thead th {\n",
       "        text-align: right;\n",
       "    }\n",
       "</style>\n",
       "<table border=\"1\" class=\"dataframe\">\n",
       "  <thead>\n",
       "    <tr style=\"text-align: right;\">\n",
       "      <th></th>\n",
       "      <th>Returns</th>\n",
       "      <th>Volatility</th>\n",
       "    </tr>\n",
       "  </thead>\n",
       "  <tbody>\n",
       "    <tr>\n",
       "      <td>SONATA</td>\n",
       "      <td>0.012251</td>\n",
       "      <td>0.471236</td>\n",
       "    </tr>\n",
       "    <tr>\n",
       "      <td>APOLLOTYRE</td>\n",
       "      <td>-0.005137</td>\n",
       "      <td>0.323878</td>\n",
       "    </tr>\n",
       "    <tr>\n",
       "      <td>MARUTI</td>\n",
       "      <td>-0.014691</td>\n",
       "      <td>0.244819</td>\n",
       "    </tr>\n",
       "    <tr>\n",
       "      <td>VOLTAS</td>\n",
       "      <td>-0.007078</td>\n",
       "      <td>0.318525</td>\n",
       "    </tr>\n",
       "    <tr>\n",
       "      <td>RELIANCE</td>\n",
       "      <td>0.015736</td>\n",
       "      <td>0.266720</td>\n",
       "    </tr>\n",
       "  </tbody>\n",
       "</table>\n",
       "</div>"
      ],
      "text/plain": [
       "             Returns  Volatility\n",
       "SONATA      0.012251    0.471236\n",
       "APOLLOTYRE -0.005137    0.323878\n",
       "MARUTI     -0.014691    0.244819\n",
       "VOLTAS     -0.007078    0.318525\n",
       "RELIANCE    0.015736    0.266720"
      ]
     },
     "execution_count": 77,
     "metadata": {},
     "output_type": "execute_result"
    }
   ],
   "source": [
    "# 5.3\n",
    "# Creating a new dataframe that contains annual return and annual standard deviations of stocks\n",
    "\n",
    "assets = pd.concat([an_means,an_stds], axis = 1)\n",
    "assets.columns = ['Returns','Volatility']\n",
    "assets"
   ]
  },
  {
   "cell_type": "code",
   "execution_count": 78,
   "metadata": {},
   "outputs": [],
   "source": [
    "p_ret = []\n",
    "p_vol = []\n",
    "p_weights = []\n",
    "\n",
    "num_assets = 5\n",
    "num_portfolios = 20000"
   ]
  },
  {
   "cell_type": "code",
   "execution_count": 79,
   "metadata": {},
   "outputs": [],
   "source": [
    "for portfolio in range(num_portfolios):\n",
    "    # Generating random weights\n",
    "    weights = np.random.random(num_assets)\n",
    "    weights = weights / np.sum(weights)\n",
    "    p_weights.append(weights)\n",
    "    \n",
    "    returns = np.dot(weights, assets['Returns'])\n",
    "    p_ret.append(returns)\n",
    "    \n",
    "    var = cov_matrix.mul(weights, axis = 0).mul(weights, axis = 1).sum().sum()\n",
    "    \n",
    "    sd = np.sqrt(var)\n",
    "    \n",
    "    ann_sd = sd * np.sqrt(252)\n",
    "    \n",
    "    p_vol.append(ann_sd)"
   ]
  },
  {
   "cell_type": "code",
   "execution_count": 80,
   "metadata": {},
   "outputs": [],
   "source": [
    "data = {'Returns':p_ret,'Volatility':p_vol}"
   ]
  },
  {
   "cell_type": "code",
   "execution_count": 81,
   "metadata": {},
   "outputs": [],
   "source": [
    "for counter, symbol in enumerate(final_df.columns.tolist()):\n",
    "    data[symbol+' Weight'] = [w[counter] for w in p_weights]"
   ]
  },
  {
   "cell_type": "code",
   "execution_count": 82,
   "metadata": {},
   "outputs": [
    {
     "data": {
      "text/html": [
       "<div>\n",
       "<style scoped>\n",
       "    .dataframe tbody tr th:only-of-type {\n",
       "        vertical-align: middle;\n",
       "    }\n",
       "\n",
       "    .dataframe tbody tr th {\n",
       "        vertical-align: top;\n",
       "    }\n",
       "\n",
       "    .dataframe thead th {\n",
       "        text-align: right;\n",
       "    }\n",
       "</style>\n",
       "<table border=\"1\" class=\"dataframe\">\n",
       "  <thead>\n",
       "    <tr style=\"text-align: right;\">\n",
       "      <th></th>\n",
       "      <th>Returns</th>\n",
       "      <th>Volatility</th>\n",
       "      <th>SONATA Weight</th>\n",
       "      <th>APOLLOTYRE Weight</th>\n",
       "      <th>MARUTI Weight</th>\n",
       "      <th>VOLTAS Weight</th>\n",
       "      <th>RELIANCE Weight</th>\n",
       "    </tr>\n",
       "  </thead>\n",
       "  <tbody>\n",
       "    <tr>\n",
       "      <td>0</td>\n",
       "      <td>0.001092</td>\n",
       "      <td>0.225749</td>\n",
       "      <td>0.278745</td>\n",
       "      <td>0.066243</td>\n",
       "      <td>0.161255</td>\n",
       "      <td>0.323640</td>\n",
       "      <td>0.170117</td>\n",
       "    </tr>\n",
       "    <tr>\n",
       "      <td>1</td>\n",
       "      <td>-0.001398</td>\n",
       "      <td>0.231546</td>\n",
       "      <td>0.315592</td>\n",
       "      <td>0.008509</td>\n",
       "      <td>0.275192</td>\n",
       "      <td>0.328010</td>\n",
       "      <td>0.072697</td>\n",
       "    </tr>\n",
       "    <tr>\n",
       "      <td>2</td>\n",
       "      <td>0.002253</td>\n",
       "      <td>0.212016</td>\n",
       "      <td>0.013991</td>\n",
       "      <td>0.347389</td>\n",
       "      <td>0.050059</td>\n",
       "      <td>0.204261</td>\n",
       "      <td>0.384300</td>\n",
       "    </tr>\n",
       "    <tr>\n",
       "      <td>3</td>\n",
       "      <td>0.000341</td>\n",
       "      <td>0.199398</td>\n",
       "      <td>0.186971</td>\n",
       "      <td>0.221463</td>\n",
       "      <td>0.209731</td>\n",
       "      <td>0.163916</td>\n",
       "      <td>0.217919</td>\n",
       "    </tr>\n",
       "    <tr>\n",
       "      <td>4</td>\n",
       "      <td>-0.002062</td>\n",
       "      <td>0.186227</td>\n",
       "      <td>0.044674</td>\n",
       "      <td>0.343472</td>\n",
       "      <td>0.341044</td>\n",
       "      <td>0.004225</td>\n",
       "      <td>0.266585</td>\n",
       "    </tr>\n",
       "  </tbody>\n",
       "</table>\n",
       "</div>"
      ],
      "text/plain": [
       "    Returns  Volatility  SONATA Weight  APOLLOTYRE Weight  MARUTI Weight  \\\n",
       "0  0.001092    0.225749       0.278745           0.066243       0.161255   \n",
       "1 -0.001398    0.231546       0.315592           0.008509       0.275192   \n",
       "2  0.002253    0.212016       0.013991           0.347389       0.050059   \n",
       "3  0.000341    0.199398       0.186971           0.221463       0.209731   \n",
       "4 -0.002062    0.186227       0.044674           0.343472       0.341044   \n",
       "\n",
       "   VOLTAS Weight  RELIANCE Weight  \n",
       "0       0.323640         0.170117  \n",
       "1       0.328010         0.072697  \n",
       "2       0.204261         0.384300  \n",
       "3       0.163916         0.217919  \n",
       "4       0.004225         0.266585  "
      ]
     },
     "execution_count": 82,
     "metadata": {},
     "output_type": "execute_result"
    }
   ],
   "source": [
    "portfolios = pd.DataFrame(data)\n",
    "portfolios.head()"
   ]
  },
  {
   "cell_type": "code",
   "execution_count": 83,
   "metadata": {},
   "outputs": [],
   "source": [
    "# 5.4\n",
    "# Calculating the Sharpe Ratio\n",
    "# Risk Free Rate\n",
    "rf = 0.025\n",
    "\n",
    "s_max = ((portfolios['Returns'] - rf) / portfolios['Volatility']).idxmax()\n",
    "\n",
    "optimal_port = portfolios.iloc[((portfolios['Returns'] - rf) / portfolios['Volatility']).idxmax()]\n",
    "\n",
    "min_vol = portfolios.iloc[portfolios['Volatility'].idxmin()]"
   ]
  },
  {
   "cell_type": "code",
   "execution_count": 85,
   "metadata": {},
   "outputs": [
    {
     "data": {
      "text/plain": [
       "Text(0.5, 1.0, 'Portfolios Scatter Plot (20000)')"
      ]
     },
     "execution_count": 85,
     "metadata": {},
     "output_type": "execute_result"
    },
    {
     "data": {
      "image/png": "[encoded data removed]",
      "text/plain": [
       "<Figure size 1080x576 with 2 Axes>"
      ]
     },
     "metadata": {
      "needs_background": "light"
     },
     "output_type": "display_data"
    }
   ],
   "source": [
    "import matplotlib.pyplot as plt\n",
    "\n",
    "plt.rcParams[\"figure.figsize\"]=15,8\n",
    "\n",
    "ax = plt.subplot(111)\n",
    "\n",
    "plt.scatter(x = portfolios['Volatility'], y = portfolios['Returns'], c = portfolios['Returns'], cmap = 'jet_r', alpha = 0.75)\n",
    "plt.xlabel('Volatility')\n",
    "plt.ylabel('Returns')\n",
    "plt.colorbar()\n",
    "ax.annotate(' ',xy = (optimal_port[1], optimal_port[0]), arrowprops=dict(facecolor='black', shrink=0.05))\n",
    "ax.annotate(' ',xy = (min_vol[1], min_vol[0]), arrowprops=dict(facecolor='black', shrink=0.05))\n",
    "plt.title('Portfolios Scatter Plot (20000)')"
   ]
  }
 ],
 "metadata": {
  "kernelspec": {
   "display_name": "Python 3",
   "language": "python",
   "name": "python3"
  },
  "language_info": {
   "codemirror_mode": {
    "name": "ipython",
    "version": 3
   },
   "file_extension": ".py",
   "mimetype": "text/x-python",
   "name": "python",
   "nbconvert_exporter": "python",
   "pygments_lexer": "ipython3",
   "version": "3.7.4"
  }
 },
 "nbformat": 4,
 "nbformat_minor": 2
}
